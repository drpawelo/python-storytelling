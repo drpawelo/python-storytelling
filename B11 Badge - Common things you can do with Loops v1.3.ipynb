{
 "cells": [
  {
   "cell_type": "markdown",
   "metadata": {},
   "source": [
    "# B10 Badge: Common Things You Can Do With Loops."
   ]
  },
  {
   "cell_type": "code",
   "execution_count": null,
   "metadata": {},
   "outputs": [],
   "source": []
  },
  {
   "cell_type": "markdown",
   "metadata": {},
   "source": [
    "# Learning objectives:\n",
    "\n",
    "At the end of this badge you will know:\n",
    "\n",
    "- Use for loops to: Check (is something true?).\n",
    "- Use for loops to: Find (is something there?).\n",
    "- Use for loops to: Filter (only keep some items).\n",
    "- Use for loops to: Map (simlify/represent each item as something else).\n",
    "- Use for loops to: Reduce (represent all items as one answer).\n",
    "- How to step over values with range().\n",
    "- What While loops are for.\n",
    "\n",
    "### 🔜 SPOILER ALERT:\n",
    "\n",
    "You will also understand these lines of code:"
   ]
  },
  {
   "cell_type": "markdown",
   "metadata": {},
   "source": [
    "## Learning objectives: By the end of this lesson you will understand what every piece of the below code does."
   ]
  },
  {
   "cell_type": "code",
   "execution_count": null,
   "metadata": {},
   "outputs": [],
   "source": [
    "# CHECK:\n",
    "\n",
    "def check_if_list_has_item(list, searched_item):\n",
    "    for item in list:\n",
    "        if item == searched_item:\n",
    "            return True\n",
    "    return False\n",
    "\n",
    "check_if_list_has_item([1,2,3,4],3)"
   ]
  },
  {
   "cell_type": "code",
   "execution_count": null,
   "metadata": {},
   "outputs": [],
   "source": [
    "# FIND:\n",
    "\n",
    "def find_first_student_with_name(students, searched_name):    \n",
    "    for student in students:\n",
    "        if student.get(\"name\") == searched_name:\n",
    "            return student\n",
    "    return None \n",
    "\n",
    "all_students = [{\"name\":\"Fiona\", \"surname\":\"McCloud\", \"course\":\"Business\"},\n",
    "           {\"name\":\"Becky\", \"surname\":\"Campbell\", \"course\":\"Economics\"},\n",
    "           {\"name\":\"Pim\", \"surname\":\"Skye\", \"course\":\"Business\"}]\n",
    "\n",
    "find_first_student_with_name(all_students, \"Pim\")"
   ]
  },
  {
   "cell_type": "code",
   "execution_count": null,
   "metadata": {},
   "outputs": [],
   "source": [
    "# FILTER:\n",
    "\n",
    "def students_on_course(students, searched_course):    \n",
    "    result = []\n",
    "    for student in students:\n",
    "        if student.get(\"course\") == searched_course:\n",
    "            result.append(student)\n",
    "    return result \n",
    "\n",
    "all_students = [{\"name\":\"Fiona\", \"surname\":\"McCloud\", \"course\":\"Business\"},\n",
    "           {\"name\":\"Becky\", \"surname\":\"Campbell\", \"course\":\"Economics\"},\n",
    "           {\"name\":\"Pim\", \"surname\":\"Skye\", \"course\":\"Business\"}]\n",
    "\n",
    "students_on_course(all_students, \"Business\")"
   ]
  },
  {
   "cell_type": "code",
   "execution_count": null,
   "metadata": {},
   "outputs": [],
   "source": [
    "# MAP:\n",
    "\n",
    "def full_names(students):    \n",
    "    result = []\n",
    "    for student in students:\n",
    "        result.append(student.get(\"name\") + \" \" + student.get(\"surname\"))\n",
    "    return result \n",
    "\n",
    "all_students = [{\"name\":\"Fiona\", \"surname\":\"McCloud\", \"course\":\"Business\"},\n",
    "           {\"name\":\"Becky\", \"surname\":\"Campbell\", \"course\":\"Economics\"},\n",
    "           {\"name\":\"Pim\", \"surname\":\"Skye\", \"course\":\"Business\"}]\n",
    "\n",
    "full_names(all_students)"
   ]
  },
  {
   "cell_type": "code",
   "execution_count": null,
   "metadata": {},
   "outputs": [],
   "source": [
    "# REDUCE:\n",
    "\n",
    "def count_of_students_on_course(students, course):    \n",
    "    result = 0\n",
    "    for student in students:\n",
    "        if student.get(\"course\") == course:\n",
    "            result += 1\n",
    "    return result \n",
    "\n",
    "students = [{\"name\":\"Fiona\", \"surname\":\"McCloud\", \"course\":\"Business\"},\n",
    "           {\"name\":\"Becky\", \"surname\":\"Campbell\", \"course\":\"Economics\"},\n",
    "           {\"name\":\"Pim\", \"surname\":\"Skye\", \"course\":\"Business\"}]\n",
    "\n",
    "count_of_students_on_course(students, \"Business\")"
   ]
  },
  {
   "cell_type": "code",
   "execution_count": null,
   "metadata": {},
   "outputs": [],
   "source": [
    "# RANGE:\n",
    "\n",
    "for n in range(5):\n",
    "    print(n)"
   ]
  },
  {
   "cell_type": "code",
   "execution_count": null,
   "metadata": {},
   "outputs": [],
   "source": [
    "for n in range(3,7,1):\n",
    "    print(n)"
   ]
  },
  {
   "cell_type": "code",
   "execution_count": null,
   "metadata": {},
   "outputs": [],
   "source": [
    "# RANGE (advanced):\n",
    "\n",
    "for n in range(10,30,6):\n",
    "    print(n)"
   ]
  },
  {
   "cell_type": "code",
   "execution_count": null,
   "metadata": {},
   "outputs": [],
   "source": [
    "# WHILE LOOP:\n",
    "\n",
    "number = 10\n",
    "while number > 0:\n",
    "    print(number)\n",
    "    number -= 1\n",
    "    if number == 5:\n",
    "        break\n",
    "print(\"finished with number: \",number)"
   ]
  },
  {
   "cell_type": "code",
   "execution_count": null,
   "metadata": {},
   "outputs": [],
   "source": [
    "# LOOPING through the key-value pairs in a Dictionary:\n",
    "\n",
    "student = {\"name\":\"Fiona\", \"surname\":\"McCloud\", \"course\":\"Business\"}\n",
    "report = \"\"\n",
    "\n",
    "for key,value in student.items(): # Note: Key and value are just variable names. You can call these whatever.\n",
    "    report += key.upper() + \": \" + value + \"\\n\"\n",
    "    \n",
    "print(report)"
   ]
  },
  {
   "cell_type": "code",
   "execution_count": null,
   "metadata": {},
   "outputs": [],
   "source": [
    "# LIST CONPREHENSION revisited:\n",
    "\n",
    "words = [\"banana\", \"pear\", \"apple\", \"plum\", \"orange\"]\n",
    "print([\n",
    "     word.upper()\n",
    "     for word in words \n",
    "     if len(word) < 5\n",
    "    ])"
   ]
  },
  {
   "cell_type": "code",
   "execution_count": null,
   "metadata": {},
   "outputs": [],
   "source": [
    "# Or, the same list comprehension in one line (a bit less readable):\n",
    "\n",
    "print([word.upper() for word in [\"banana\", \"pear\", \"apple\", \"plum\", \"orange\"]  if len(word) < 5])"
   ]
  },
  {
   "cell_type": "markdown",
   "metadata": {},
   "source": [
    " 🎯 End of learning objectives 🎯"
   ]
  },
  {
   "cell_type": "markdown",
   "metadata": {},
   "source": [
    "### Things you have done with LOOPS already:"
   ]
  },
  {
   "cell_type": "markdown",
   "metadata": {},
   "source": [
    "This week we will explore some more things that can be done with loops, but before that, let's have a look at things we already know and have used:"
   ]
  },
  {
   "cell_type": "markdown",
   "metadata": {},
   "source": [
    "### CHECK - check if something is the list (returns: Boolean, True/False value)."
   ]
  },
  {
   "cell_type": "code",
   "execution_count": null,
   "metadata": {},
   "outputs": [],
   "source": [
    "def does_list_contain_item_with_name_lamb(menu):\n",
    "    ''' return True if list contains item with value 'lamb' for key 'name', False otherwise\n",
    "    '''\n",
    "    for item in menu:\n",
    "        if item.get(\"name\") == \"lamb\":\n",
    "            return True\n",
    "    return False\n",
    "\n",
    "dishes = [{\"name\":\"fish\", \"vegetarian\":False},\n",
    "         {\"name\":\"lamb\", \"vegetarian\":False},\n",
    "         {\"name\":\"banana\", \"vegetarian\":True}]\n",
    "\n",
    "print(does_list_contain_item_with_name_lamb(dishes))"
   ]
  },
  {
   "cell_type": "code",
   "execution_count": null,
   "metadata": {},
   "outputs": [],
   "source": [
    "def does_list_contain_item_with_name(menu, searched_name):\n",
    "    ''' return True if list contains item, False otherwise\n",
    "    '''\n",
    "    for item in menu:\n",
    "        if item.get(\"name\") == searched_name:\n",
    "            return True\n",
    "    return False\n",
    "\n",
    "dishes = [{\"name\":\"fish\", \"vegetarian\":False},\n",
    "         {\"name\":\"lamb\", \"vegetarian\":False},\n",
    "         {\"name\":\"banana\", \"vegetarian\":True}]\n",
    "my_favourite_name = \"banana\"\n",
    "\n",
    "print(does_list_contain_item_with_name(dishes, my_favourite_name))"
   ]
  },
  {
   "cell_type": "markdown",
   "metadata": {},
   "source": [
    "### FIND - find something in a list (returns: one item from original list)."
   ]
  },
  {
   "cell_type": "code",
   "execution_count": null,
   "metadata": {},
   "outputs": [],
   "source": [
    "# When requirement is hard-coded i.e. defined in code and does not change.\n",
    "\n",
    "def find_first_vegetarian_option(menu):    \n",
    "    ''' return first vegetarian option, \n",
    "        if none found, return None\n",
    "    '''\n",
    "    for item in menu:\n",
    "        if item.get(\"vegetarian\") == True:\n",
    "            return item\n",
    "    return None \n",
    "\n",
    "dishes = [{\"name\":\"fish\", \"vegetarian\":False},\n",
    "         {\"name\":\"lamb\", \"vegetarian\":False},\n",
    "         {\"name\":\"banana\", \"vegetarian\":True}]\n",
    "\n",
    "print(find_first_vegetarian_option(dishes))"
   ]
  },
  {
   "cell_type": "code",
   "execution_count": null,
   "metadata": {},
   "outputs": [],
   "source": [
    "# When requirement changes i.e. passed-in as an argument to the function.\n",
    "\n",
    "def find_first_option_fitting_criteria(menu, should_be_veggie):    \n",
    "    ''' return first option fitting criteria: \n",
    "        first with \"vegetarian\":False if should_be_veggie is False\n",
    "        first with \"vegetarian\":True if should_be_veggie is True\n",
    "        if none found, return None\n",
    "    '''\n",
    "    for item in menu:\n",
    "        if item.get(\"vegetarian\") == should_be_veggie:\n",
    "            return item\n",
    "    return None \n",
    "\n",
    "dishes = [{\"name\":\"fish\", \"vegetarian\":False},\n",
    "         {\"name\":\"lamb\", \"vegetarian\":False},\n",
    "         {\"name\":\"banana\", \"vegetarian\":True}]\n",
    "\n",
    "print(find_first_option_fitting_criteria(dishes, False))\n",
    "print(find_first_option_fitting_criteria(dishes, True))"
   ]
  },
  {
   "cell_type": "markdown",
   "metadata": {},
   "source": [
    "### FILTER - return a subset / keep only some items (returns: smaller list with some items from original list)."
   ]
  },
  {
   "cell_type": "code",
   "execution_count": null,
   "metadata": {},
   "outputs": [],
   "source": [
    "def subset_with_vegetarian_options(menu):    \n",
    "    ''' return a list containing only vegetarian options\n",
    "        if none found return empty list []\n",
    "    '''\n",
    "    vegetarian_options = []\n",
    "    for item in menu:\n",
    "        if item.get(\"vegetarian\") == True:\n",
    "            vegetarian_options.append(item)\n",
    "    return vegetarian_options \n",
    "\n",
    "dishes = [{\"name\":\"fish\", \"vegetarian\":False},\n",
    "         {\"name\":\"lamb\", \"vegetarian\":False},\n",
    "         {\"name\":\"banana\", \"vegetarian\":True}]\n",
    "\n",
    "print(subset_with_vegetarian_options(dishes))"
   ]
  },
  {
   "cell_type": "code",
   "execution_count": null,
   "metadata": {},
   "outputs": [],
   "source": [
    "def subset_fitting_criteria(list, should_be_veggie):     \n",
    "    ''' return a list woth all items fitting criteria\n",
    "        keep those where \"vegetarian\":False if should_be_veggie is False\n",
    "        keep those where \"vegetarian\":True if should_be_veggie is True\n",
    "        if none found return empty list []\n",
    "    '''\n",
    "    vegetarian_options = []\n",
    "    \n",
    "    for item in list:\n",
    "        if item.get(\"vegetarian\") == should_be_veggie:\n",
    "            vegetarian_options.append(item)\n",
    "    return vegetarian_options \n",
    "\n",
    "dishes = [{\"name\":\"fish\", \"vegetarian\":False},\n",
    "         {\"name\":\"lamb\", \"vegetarian\":False},\n",
    "         {\"name\":\"banana\", \"vegetarian\":True}]\n",
    "\n",
    "print(subset_fitting_criteria(dishes, False))"
   ]
  },
  {
   "cell_type": "markdown",
   "metadata": {},
   "source": [
    "Did you notice that **EACH** of these functions could have been solved with a list comprehension. In a much simpler way and with less scope for the bugs!\n",
    "\n",
    "At some point we will see things that can only be done with loops, but it's important to know both methods so that you can pick the one more suitable for a particular scenario."
   ]
  },
  {
   "cell_type": "markdown",
   "metadata": {},
   "source": [
    "## And Finally:  Some new applications of FOR LOOPS."
   ]
  },
  {
   "cell_type": "markdown",
   "metadata": {},
   "source": [
    "### MAP - represent a list as a simpler list, in another format (returns: same length, different items)."
   ]
  },
  {
   "cell_type": "markdown",
   "metadata": {},
   "source": [
    "Example application of mapping is where you want to simplify detailed information about many items. For example, you have ALL information about clients, but wish to keep ONLY their client numbers. Or information about ALL employees and want to ONLY keep their wages information.\n",
    "\n",
    "Just like a map of the city represents the city but in a simplified, flatter way - when you **map** a LIST of COMPLICATED DATA you will turn it into a LIST of SIMPLER DATA. Just like when a city in reality has 4 parks, on the map it will also have 4 green areas. While the original parks will have a lot of details (trees, squirrels, etc.) the map will hold much less information about parks (usually just name and shape).\n",
    "\n",
    "Original list and final list will have the SAME LENGTH, but DIFFERENT CONTENT.\n",
    "\n",
    "You already did some examples of mapping when you turned simplified lists to just their lengths.\n",
    "\n",
    "You could represented a list of words ```[\"banana\", \"pear\", \"pineapple\"]``` with a list of their lengths ```[6,4,9]```.\n",
    "\n",
    "Or a list of lists ```[ [1,2] , [1,1,1] , [3,4] ]``` with their sums ```[3,3,7]``` or maybe with just their lengths ```[2,3,2]```.\n",
    "\n",
    "Or a list of dictionaries with a list of strings based on one value in each dictionary:\n",
    "\n",
    "```[{\"name\":\"fish\", \"vegetarian\":False},\n",
    "{\"name\":\"lamb\", \"vegetarian\":False},\n",
    "{\"name\":\"banana\", \"vegetarian\":True}]```\n",
    "\n",
    "with \n",
    "\n",
    "```[\"fish\", \"lamb\", \"banana\"]```\n",
    "\n",
    "Notice: In all of these examples you take a LIST OF COMPLICATED ITEMS, and simplify it into a LIST OF SIMPLER ITEMS."
   ]
  },
  {
   "cell_type": "code",
   "execution_count": null,
   "metadata": {},
   "outputs": [],
   "source": [
    "def map_to_lengths_only(words):\n",
    "    lengths = []\n",
    "    for word in words:\n",
    "        lengths.append( len(word) )\n",
    "    return lengths\n",
    "\n",
    "fruits = [\"banana\", \"pear\", \"pineapple\"]\n",
    "\n",
    "print(map_to_lengths_only(fruits))"
   ]
  },
  {
   "cell_type": "code",
   "execution_count": null,
   "metadata": {},
   "outputs": [],
   "source": [
    "def map_to_list_of_sums(list_of_lists):\n",
    "    sums = []\n",
    "    for a_list in list_of_lists:\n",
    "        sums.append( sum(a_list) )\n",
    "    return sums\n",
    "\n",
    "lists = [ [1,2] , [1,1,1] , [3,4] ]\n",
    "print(map_to_list_of_sums(lists))"
   ]
  },
  {
   "cell_type": "code",
   "execution_count": null,
   "metadata": {},
   "outputs": [],
   "source": [
    "def map_to_names_only(list_of_dictionaries):\n",
    "    names = []\n",
    "    for dictionary in list_of_dictionaries:\n",
    "        names.append( dictionary.get(\"name\") )\n",
    "    return names\n",
    "\n",
    "dishes = [{\"name\":\"fish\", \"vegetarian\":False},\n",
    "{\"name\":\"lamb\", \"vegetarian\":False},\n",
    "{\"name\":\"banana\", \"vegetarian\":True}]\n",
    "\n",
    "print(map_to_names_only(dishes))"
   ]
  },
  {
   "cell_type": "markdown",
   "metadata": {},
   "source": [
    "### REDUCE - reduce a list to one value like total or max (returns: a single value, extracted from items)."
   ]
  },
  {
   "cell_type": "markdown",
   "metadata": {},
   "source": [
    "Reducing is a process of taking a COMPLICATED REALITY and boiling it down to ONE VALUE. You could take a whole list of items and reduce it to one value: \n",
    "\n",
    "You could represented a list of words ```[\"banana\", \"pear\", \"pineapple\"]``` as a total number of all letters ```19```, or even  as its length ```3```.\n",
    "\n",
    "Or a list of lists ```[ [1,2] , [1,1,1] , [3,4] ]``` with total number of all odd numbers ```2``` or maybe with a number of occurences of ```1``` which would be  ```4```.\n",
    "\n",
    "Or a list of dictionaries:\n",
    "\n",
    "```[{\"name\":\"fish\", \"vegetarian\":False},\n",
    "{\"name\":\"lamb\", \"vegetarian\":False},\n",
    "{\"name\":\"banana\", \"vegetarian\":True}]```\n",
    "\n",
    "With a percent of vegetarian options ```33%``` or  with a string with all names separated by comas ```\"fish,lamb,banana\"```."
   ]
  },
  {
   "cell_type": "code",
   "execution_count": null,
   "metadata": {},
   "outputs": [],
   "source": [
    "def reduce_to_total_length_of_words(words):\n",
    "    total_length_of_words = 0\n",
    "    for item in words:\n",
    "        total_length_of_words += len(item) \n",
    "    return total_length_of_words\n",
    "\n",
    "fruits = [\"banana\", \"pear\", \"pineapple\"]\n",
    "print(reduce_to_total_length_of_words(fruits))"
   ]
  },
  {
   "cell_type": "code",
   "execution_count": null,
   "metadata": {},
   "outputs": [],
   "source": [
    "def reduce_to_number_of_occurances_of_number(list_of_lists, searched_number):\n",
    "    occurances_of_number = 0\n",
    "    for a_list in list_of_lists:\n",
    "        occurances_of_number += a_list.count(searched_number)\n",
    "    return occurances_of_number\n",
    "\n",
    "lists = [ [1,2] , [1,1,1] , [3,4] ]\n",
    "\n",
    "print(reduce_to_number_of_occurances_of_number(lists, 1))"
   ]
  },
  {
   "cell_type": "code",
   "execution_count": null,
   "metadata": {},
   "outputs": [],
   "source": [
    "def reduce_to_ratio_of_vegetarian_options(list_of_dictionaries):\n",
    "    veggie_options_so_far = 0\n",
    "    \n",
    "    for dictionary in list_of_dictionaries:\n",
    "        if dictionary.get(\"vegetarian\") == True:\n",
    "            veggie_options_so_far += 1\n",
    "        \n",
    "    return veggie_options_so_far / len(list_of_dictionaries)\n",
    "\n",
    "dishes = [{\"name\":\"fish\", \"vegetarian\":False},\n",
    "{\"name\":\"lamb\", \"vegetarian\":False},\n",
    "{\"name\":\"banana\", \"vegetarian\":True}]\n",
    "\n",
    "print(reduce_to_ratio_of_vegetarian_options(dishes))"
   ]
  },
  {
   "cell_type": "markdown",
   "metadata": {},
   "source": [
    "### Does it all have to be so complicated? 😢"
   ]
  },
  {
   "cell_type": "markdown",
   "metadata": {},
   "source": [
    "There are ways to perform some of these operations in a simpler way and you will see some of them. But it is important for you to understand the logic behind these operations, so that when we are dealing with data, you will know what's going on and why."
   ]
  },
  {
   "cell_type": "markdown",
   "metadata": {},
   "source": [
    "### RANGE - a sequence of numbers."
   ]
  },
  {
   "cell_type": "markdown",
   "metadata": {},
   "source": [
    "Often we find ourselves iterating over a set of numbers that are in a row:"
   ]
  },
  {
   "cell_type": "code",
   "execution_count": null,
   "metadata": {},
   "outputs": [],
   "source": [
    "numbers = [0,1,2,3,4,5,6]\n",
    "for number in numbers:\n",
    "    print(number, \"green bottles standing on the wall\")"
   ]
  },
  {
   "cell_type": "markdown",
   "metadata": {},
   "source": [
    "**RANGE** is a Python data structure built to hold a series of numbers. Other data structures you know are STRINGS, LISTS or DICTIONARIES. Range cannot be changed once it's created, but is very useful in combination with a FOR LOOP.\n",
    "\n",
    "Range can be created in a few ways with the function `range()`."
   ]
  },
  {
   "cell_type": "markdown",
   "metadata": {},
   "source": [
    "**range( End )** - default start is 0, default step is 1:\n",
    "\n",
    "```range(end)``` creates a range of numbers from ```0``` , to the number just below `end`, taking every number on its way.\n",
    "\n",
    "e.g. ```range(10)``` will create ```[0,1,2,3,4,5,6,7,8,9]``` a range of numbers from ```0``` to ```9```, taking every number."
   ]
  },
  {
   "cell_type": "code",
   "execution_count": null,
   "metadata": {},
   "outputs": [],
   "source": [
    "# range(end)\n",
    "for x in range(6):\n",
    "    print(x)"
   ]
  },
  {
   "cell_type": "markdown",
   "metadata": {},
   "source": [
    "**range( Start, End )** - default step is 1:\n",
    "\n",
    "```range(start, end)``` creates a range of numbers from `start`, until one smaller than `end`, taking into account each number.\n",
    "\n",
    "e.g. ```range(0, 10)``` will create ```[0,1,2,3,4,5,6,7,8,9]``` a range of numbers from ```0``` to ```9```,  taking into account each number.\n",
    "\n",
    "e.g. ```range(5, 10)``` will create ```[5,6,7,8,9]``` a range of numbers from ```5``` to ```9```,  taking into account each number."
   ]
  },
  {
   "cell_type": "code",
   "execution_count": null,
   "metadata": {},
   "outputs": [],
   "source": [
    "# Range (start, end):\n",
    "\n",
    "for x in range(3,9):\n",
    "    print(x)"
   ]
  },
  {
   "cell_type": "code",
   "execution_count": null,
   "metadata": {},
   "outputs": [],
   "source": [
    "for x in range(-3,4):\n",
    "    print(x)"
   ]
  },
  {
   "cell_type": "markdown",
   "metadata": {},
   "source": [
    "**range( Start, End, Step )**:\n",
    "\n",
    "```range(start, end, step)``` creates a range of numbers from `start`, all smaller than `end`, jumping `step` numbers every time.\n",
    "\n",
    "e.g. ```range(0, 10, 3)``` will create ```[0,3,6,9]``` a range of numbers from ```0``` to ```9```, taking every ```3rd``` number into account.\n",
    "e.g. ```range(0, 10, 2)``` will create ```[0,2,4,6,8]``` a range of numbers from ```0``` to ```9```, taking every ```2nd``` number into account.\n",
    "e.g. ```range(5, 15, 3)``` will create ```[5,8,11,14]```.\n",
    "e.g. ```range(5, -5, -1)``` will create ```[5,4,3,2,1,0,-1,-2,-3,-4]```."
   ]
  },
  {
   "cell_type": "code",
   "execution_count": null,
   "metadata": {},
   "outputs": [],
   "source": [
    "# Range(start, end, step):\n",
    "\n",
    "for x in range(3,20,5):\n",
    "    print(x)"
   ]
  },
  {
   "cell_type": "code",
   "execution_count": null,
   "metadata": {},
   "outputs": [],
   "source": [
    "for x in range(0,-20,-4):\n",
    "    print(x)"
   ]
  },
  {
   "cell_type": "markdown",
   "metadata": {},
   "source": [
    "Note: Range is not just a different way to write a list - it's a completely new data type designed for iterating over number sets."
   ]
  },
  {
   "cell_type": "code",
   "execution_count": null,
   "metadata": {},
   "outputs": [],
   "source": [
    "# This will NOT print [0,3,6,9,12] - it will print the range object.\n",
    "\n",
    "print( range(0, 12, 3) ) "
   ]
  },
  {
   "cell_type": "markdown",
   "metadata": {},
   "source": [
    "## Other loop types and modifiers:"
   ]
  },
  {
   "cell_type": "markdown",
   "metadata": {},
   "source": [
    "You already know how to use the \"for in\" loop to go through items in an array, like this:"
   ]
  },
  {
   "cell_type": "code",
   "execution_count": null,
   "metadata": {},
   "outputs": [],
   "source": [
    "fruits = [\"banana\", \"pear\", \"apple\"]\n",
    "for fruit in fruits:\n",
    "    print(fruit)"
   ]
  },
  {
   "cell_type": "markdown",
   "metadata": {},
   "source": [
    "But sometimes you want something to keep repeating, and you don't know for how long. Or atleast, it's not obvious for how long. In a 'for loop' the maximum number of iterations is decided at the very beginning - it is the number of items in the list you're iterating over.\n",
    "\n",
    "### WHILE LOOP - do something while condition is True.\n",
    "\n",
    "Is a new type of loop which will keep repeating it's action WHILE a condition is TRUE. It's a little bit like a combination of an IF and a LOOP.\n",
    "\n",
    "'While loop' described in pseudo-code would look like this:\n",
    "\n",
    "```if some_condition == True, then keep looping this code```.\n",
    "\n",
    "Let's have a look at some examples:"
   ]
  },
  {
   "cell_type": "code",
   "execution_count": null,
   "metadata": {},
   "outputs": [],
   "source": [
    "# While there are still fruit in the list, remove one:\n",
    "\n",
    "fruits = [\"banana\", \"pear\", \"apple\"]\n",
    "\n",
    "while len(fruits) > 0:\n",
    "    print(fruits)\n",
    "    fruits.pop() "
   ]
  },
  {
   "cell_type": "code",
   "execution_count": null,
   "metadata": {},
   "outputs": [],
   "source": [
    "# While number is smaller than 10, increase it by 1:\n",
    "\n",
    "number = 0\n",
    "\n",
    "while number < 10:\n",
    "    print( number )\n",
    "    number += 1"
   ]
  },
  {
   "cell_type": "code",
   "execution_count": null,
   "metadata": {},
   "outputs": [],
   "source": [
    "# Keep removing words, until there are less than 3 left:\n",
    "\n",
    "fruits = [\"banana\", \"pear\", \"apple\", \"plum\", \"orange\"]\n",
    "\n",
    "while len(fruits) > 3:\n",
    "    print( fruits )\n",
    "    fruits.pop()\n",
    "    \n",
    "print( fruits )"
   ]
  },
  {
   "cell_type": "code",
   "execution_count": null,
   "metadata": {},
   "outputs": [],
   "source": [
    "secret_password = \"banana\"\n",
    "user_guess = input(\"What's the password?\")\n",
    "while user_guess != secret_password:\n",
    "    print( \"incorrect password, try again\" )\n",
    "    user_guess = input(\"What's the password?\")\n",
    "    \n",
    "print( \"Ok, you can enter.\")\n",
    "\n",
    "# Note: if your kernel gets stuck doing this (there's an IN[*] to the left of this cell and cant get out).\n",
    "# Try choosing 'Menu > Kernel > Restart'.\n",
    "# See notes below about freezing code..."
   ]
  },
  {
   "cell_type": "markdown",
   "metadata": {},
   "source": [
    "### While 'True' and escape operators: 'break', 'continue'."
   ]
  },
  {
   "cell_type": "markdown",
   "metadata": {},
   "source": [
    "Sometimes you want the program to keep going until you specifically tell it to stop. It can be a dangerous thing to do, because if you never tell your program to stop it will be stuck in an **INFINITE LOOP** (dooom doooomm doooooooom!).\n",
    "\n",
    "Often there are legitimate reasons to tell your loop to keep going forever. To do this you would use a while loop, but instead of a logical condition like ```len(fruits) > 3``` you would just say ```True```. This way the loop will keep going forever.\n",
    "\n",
    "Note: If your Notebook gets stuck in an infinite loop, it will likely **FREEZE** your Kernel. The Kernel is kind of like the heart of the server running your code in the background) so your Notebook will be non-responsive.\n",
    "\n",
    "**HOW WILL YOU KNOW YOUR NOTEBOOK IS FROZEN?**: \n",
    "\n",
    "- When you run code cells, to the left of them you will see ```In [*]``` instead of seeing something like ```In [51]```. You can think of the ```*``` as a frozen snowflake.\n",
    "- The icon on your browser tab will turn from a notebook icon 📙, to an hour-glass icon ⏳.\n",
    "\n",
    "**UN-FREEZING YOUR NOTEBOOK** \n",
    "\n",
    "- Sometimes it's enough to stop current operation with 'Kernel > Interrupt', or with square 'STOP' button.\n",
    "- To restart your Notebook, you will have to select in menu 'Kernel > Restart' or click the 'Restart' icon.\n",
    "- If these efforts fail, close the Notebook tab and open it again from your Noteable file list.\n",
    "\n",
    "Note: You can cleanup output spaces under your cell with 'Kernel > Restart' and 'Clear Output'."
   ]
  },
  {
   "cell_type": "code",
   "execution_count": null,
   "metadata": {},
   "outputs": [],
   "source": [
    "# Run this cell at your own peril. As in: do to practice restarting the Kernel!\n",
    "\n",
    "# Start a number with 0 and keep increasing it into infinity:\n",
    "\n",
    "number = 0\n",
    "\n",
    "while True:\n",
    "    number += 1\n",
    "    print(\"yay number increased to\", number)"
   ]
  },
  {
   "cell_type": "markdown",
   "metadata": {},
   "source": [
    "Well, that was not particularly useful was it? Luckily the 'break' and 'continue' will come to our rescue.\n",
    "\n",
    "**BREAK** - will TERMINATE THE WHOLE LOOP and exit from it. That means that the loop will stop immediately, not loop again and your code will continue after the loop.\n",
    "\n",
    "**CONTINUE** - will STOP THE CURRENT ITERATION of the loop. That means the current iteration will immediately stop, but  the loop itself will continue, but from the next loop."
   ]
  },
  {
   "cell_type": "code",
   "execution_count": null,
   "metadata": {},
   "outputs": [],
   "source": [
    "counter = 7\n",
    "\n",
    "while True:\n",
    "    counter -= 1\n",
    "    print(counter, \"minutes left\")\n",
    "        \n",
    "    if counter <= 0:\n",
    "        print(\"That's it! Step away from the bench\")\n",
    "        break # End this loop.\n",
    "        \n",
    "    if counter <= 3:\n",
    "        continue # End this iteration.\n",
    "        \n",
    "    print(\"there's plenty of time left!\")"
   ]
  },
  {
   "cell_type": "markdown",
   "metadata": {},
   "source": [
    "### BREAK and CONTINUE inside of FOR LOOPS."
   ]
  },
  {
   "cell_type": "markdown",
   "metadata": {},
   "source": [
    "You can use ```break``` and ```continue``` inside of normal ```for loops``` as well - it will have the same effects as in a while loop:\n",
    "\n",
    "**BREAK**: will TERMINATE THE WHOLE LOOP and exit from it. That means that the loop will stop immediately, not loop again and your code will continue after the loop.\n",
    "\n",
    "**CONTINUE**: will STOP THE CURRENT ITERATION of the loop. That means the current iteration will immediately stop, but the loop itself will continue, moving on from the next loop."
   ]
  },
  {
   "cell_type": "code",
   "execution_count": null,
   "metadata": {},
   "outputs": [],
   "source": [
    "for counter in range(7,-10,-1): # A range counting down.\n",
    "    print(counter, \"minutes left\")\n",
    "    \n",
    "    if counter <= 0:\n",
    "        print(\"That's it! Step away from the bench\")\n",
    "        break # End this loop.\n",
    "        \n",
    "    if counter <= 3:\n",
    "        continue # End this iteration.\n",
    "    \n",
    "    print(\"There's a lot of time!\")"
   ]
  },
  {
   "cell_type": "markdown",
   "metadata": {},
   "source": [
    "## ⭐️⭐️⭐️💥 What you have learned in this session: Three stars and a wish.\n",
    "**In your own words** write in your Learn diary:\n",
    "\n",
    "- 3 things you would like to remember from this badge.\n",
    "- 1 thing you wish to understand better in the future or a question you'd like to ask."
   ]
  },
  {
   "cell_type": "markdown",
   "metadata": {},
   "source": [
    "# ⛏  Minitask: Countries API. \n",
    "\n",
    "### Try to Solve EACH TASK TWICE - once with a LOOP and once with a LIST COMPREHENSION. \n",
    "\n",
    "Below is a function that will give you access to an API with information about countries of the world. Inspect this data and then write 3-4 functions that extract some information from the set.\n",
    "\n",
    "Solve each task with BOTH for loop and list comrehension.\n",
    "\n",
    "Below the function `get_all_countries_info()` there is an example task already solved for you.\n",
    "\n",
    "You can do what you feel like, but here are some suggestions:\n",
    "\n",
    "- Calculate a total area of population of countries in a given region, so you could run e.g. `get_population_of_region( all_countries, 'Europe' )`.\n",
    "- Which country has the most neighbours? Write a function which will find a country that borders with most other countries and return its data. This might be easier with a for loop.  `country_with_most_neighbours(all_countries )`.\n",
    "- Whatever else sounds fun...\n",
    "\n",
    "Remember that some data might be missing, so you might have to check if they are not `None` (see the example below).\n",
    "\n",
    "Remember also to every now and then save your progress ('File > Save', or a keyboard shortcut, or click the Disk icon top left of Notebook.) "
   ]
  },
  {
   "cell_type": "code",
   "execution_count": null,
   "metadata": {},
   "outputs": [],
   "source": [
    "# API accessor function is written for you already. \n",
    "# After running this cell, you should be able to just use the 'all_countries' variable.\n",
    "\n",
    "import requests\n",
    "import pprint as pp\n",
    "    \n",
    "def get_all_countries_info():\n",
    "    apiurl =  \"https://restcountries.com/v3.1/all\"\n",
    "    response = requests.request(\"GET\", apiurl)\n",
    "    countries = response.json()\n",
    "    return countries\n",
    "\n",
    "all_countries = get_all_countries_info()\n",
    "\n",
    "# You need to run this cell just once. It will create/store the variable 'all_countries'."
   ]
  },
  {
   "cell_type": "code",
   "execution_count": null,
   "metadata": {},
   "outputs": [],
   "source": [
    "# Example, print info of the last country:\n",
    "\n",
    "pp.pprint(all_countries[-1])"
   ]
  },
  {
   "cell_type": "code",
   "execution_count": null,
   "metadata": {},
   "outputs": [],
   "source": [
    "# Example, print some info of the last country:\n",
    "\n",
    "pp.pprint(all_countries[-1]['name']['common'])\n",
    "pp.pprint(all_countries[-1]['population'])\n",
    "pp.pprint(all_countries[-1]['capital'][0]) # Apparently country can have many.\n",
    "pp.pprint(all_countries[-1]['flag']) # As emoji! ;)\n",
    "pp.pprint(all_countries[-1]['region'])"
   ]
  },
  {
   "cell_type": "code",
   "execution_count": null,
   "metadata": {},
   "outputs": [],
   "source": [
    "# Note: A more DRY way to do above would be...\n",
    "\n",
    "# Example, print some info of the last country:\n",
    "\n",
    "last_country = all_countries[-1]\n",
    "\n",
    "pp.pprint(last_country['name']['common'])\n",
    "pp.pprint(last_country['population'])\n",
    "pp.pprint(last_country['capital'][0]) # Apparently country can have many.\n",
    "pp.pprint(last_country['flag']) # As emoji!\n",
    "pp.pprint(last_country['region'])"
   ]
  },
  {
   "cell_type": "markdown",
   "metadata": {},
   "source": [
    "## SOLVED, Task 1: get names and flags of countries with area larger than a given number\n",
    "\n",
    "Write a function that takes a list of country information and a number, and will return a list with strings that contains the names and flag emojis of the required countries. Only use countries where their area is larger than that number.\n",
    "\n",
    "Example string: \"Senegal󠁧 🇸🇳󠁢󠁳󠁣󠁴󠁿\"\n",
    "\n",
    "`get_names_of_countries_with_area_larger_than(countries, minimum_area)`.\n"
   ]
  },
  {
   "cell_type": "code",
   "execution_count": null,
   "metadata": {},
   "outputs": [],
   "source": [
    "# Solution with a LOOP:\n",
    "\n",
    "def get_names_of_countries_with_area_larger_than(countries, minimum_area):\n",
    "    result = []\n",
    "    for country in countries:\n",
    "        if country['area'] > minimum_area and country.get('flag') != None:\n",
    "            # Yeah, some countries have no flag emoji! 😢\n",
    "            about_the_country = f\"{country['name']['common']} {country['flag']}\" # The epic f-string notation.\n",
    "            result.append(about_the_country)\n",
    "    return result\n"
   ]
  },
  {
   "cell_type": "code",
   "execution_count": null,
   "metadata": {},
   "outputs": [],
   "source": [
    "# Larger than 2000000:\n",
    "\n",
    "pp.pprint(get_names_of_countries_with_area_larger_than(all_countries, 2000000))"
   ]
  },
  {
   "cell_type": "code",
   "execution_count": null,
   "metadata": {},
   "outputs": [],
   "source": [
    "# Larger than 0:\n",
    "\n",
    "pp.pprint(get_names_of_countries_with_area_larger_than(all_countries, 0))"
   ]
  },
  {
   "cell_type": "code",
   "execution_count": null,
   "metadata": {},
   "outputs": [],
   "source": [
    "# Solution with LIST COMPREHENSION:\n",
    "\n",
    "def get_names_of_countries_with_area_larger_than(countries, minimum_area):\n",
    "    return [ \n",
    "        f\"{country['name']['common']} {country['flag']}\" # Here we use f-string notation - genius!\n",
    "        for country in countries\n",
    "        if country['area'] > minimum_area and country.get('flag') != None\n",
    "        # Yeah, some countries have no flag emoji! 😢\n",
    "    ]"
   ]
  },
  {
   "cell_type": "code",
   "execution_count": null,
   "metadata": {},
   "outputs": [],
   "source": [
    "pp.pprint(get_names_of_countries_with_area_larger_than(all_countries, 2000000))"
   ]
  },
  {
   "cell_type": "code",
   "execution_count": null,
   "metadata": {},
   "outputs": [],
   "source": [
    "pp.pprint(get_names_of_countries_with_area_larger_than(all_countries, 0))"
   ]
  },
  {
   "cell_type": "markdown",
   "metadata": {},
   "source": [
    "## Task 2: Your choice.\n",
    "\n",
    "Suggestions from above:\n",
    "\n",
    "- Calculate a total area of population of countries in a given region, so you could run eg. `get_population_of_region( all_countries, 'Europe' )`.\n",
    "- Which country has the most neighbours? Write a function which will find a country that has the most neighbours and returns all of that country's data. `country_with_most_neighbours(all_countries)` - notice most countries have a `borders` list, so you could just treat that as neighbours. Not all countries have it (e.g. some island countries don't).\n",
    "- Whatever else sounds fun..."
   ]
  },
  {
   "cell_type": "code",
   "execution_count": null,
   "metadata": {},
   "outputs": [],
   "source": []
  },
  {
   "cell_type": "markdown",
   "metadata": {},
   "source": [
    "## Task 3: Your choice"
   ]
  },
  {
   "cell_type": "code",
   "execution_count": null,
   "metadata": {},
   "outputs": [],
   "source": []
  },
  {
   "cell_type": "markdown",
   "metadata": {},
   "source": [
    "## Task 4: Your choice"
   ]
  },
  {
   "cell_type": "code",
   "execution_count": null,
   "metadata": {},
   "outputs": [],
   "source": []
  }
 ],
 "metadata": {
  "kernelspec": {
   "display_name": "Python 3",
   "language": "python",
   "name": "python3"
  },
  "language_info": {
   "codemirror_mode": {
    "name": "ipython",
    "version": 3
   },
   "file_extension": ".py",
   "mimetype": "text/x-python",
   "name": "python",
   "nbconvert_exporter": "python",
   "pygments_lexer": "ipython3",
   "version": "3.9.6"
  }
 },
 "nbformat": 4,
 "nbformat_minor": 2
}
