{
 "cells": [
  {
   "cell_type": "markdown",
   "metadata": {},
   "source": [
    "# B08 Badge: List Comprehentions: Filter and Map (represent) Lists."
   ]
  },
  {
   "cell_type": "markdown",
   "metadata": {},
   "source": [
    "Note: This is a **JUPYTER NOTEBOOK**. It's a type of website where you can edit and run computer programms (code). You interact with it in your web browser and you can find it via your Learn.\n",
    "\n",
    "1. These blocks here are cells.\n",
    "2. There are **TEXT CELLS** like this one with explanations of concepts.\n",
    "3. And **CODE CELLS** with Python code (see below). Code cells have a ```In []``` written to the left.\n",
    "4. You can **RUN CODE CELLS** by clicking on them and pressing **Shirt + Enter**. When you run a cell code in it is run (it \"happens\", computer will do what you asked for it to do). Results of what your code does will appear underneath the cell.\n",
    "5. As we go through these lessons, please READ text cells, and RUN code cells.\n",
    "6. Good luck!"
   ]
  },
  {
   "cell_type": "code",
   "execution_count": null,
   "metadata": {},
   "outputs": [],
   "source": [
    "# Slowly we will start importing all the useful libraries at the beginning of each badge. Run this now!\n",
    "\n",
    "import pprint as pp"
   ]
  },
  {
   "cell_type": "markdown",
   "metadata": {},
   "source": [
    "# Learning objectives:\n",
    "\n",
    "At the end of this badge you will know:\n",
    "\n",
    "- How to use List Comprehentions - simplified python 'loops' for filtering and mapping.\n",
    "- How to read List Comps - first input, then condition, then output.\n",
    "- How to use List Comps to pull out some useful information out of JSON data.\n",
    "\n",
    "### 🔜 SPOILER ALERT:\n",
    "\n",
    "You will also understand these lines of code:"
   ]
  },
  {
   "cell_type": "code",
   "execution_count": null,
   "metadata": {},
   "outputs": [],
   "source": [
    "# Example: Filter out the short words, and then simplify data to just lengths of words.\n",
    "\n",
    "fruits = [\"apple\", \"pear\", \"banana\", \"pinapple\"]\n",
    "\n",
    "lengths_of_long_words = [\n",
    "    len(fruit)\n",
    "    for fruit in fruits\n",
    "    if len(fruit) > 5\n",
    "]\n",
    "\n",
    "print(lengths_of_long_words)"
   ]
  },
  {
   "cell_type": "code",
   "execution_count": null,
   "metadata": {},
   "outputs": [],
   "source": [
    "coffee_orders = [{'type': 'Latte', 'milk': 'Cow', 'sugar': 2}, \n",
    "                 {'type': 'Lungo', 'milk': 'None', 'sugar': 1}, \n",
    "                 {'type': 'Latte', 'milk': 'Oat', 'sugar': 2}]\n",
    "\n",
    "sugars_in_vegan_coffees = [ order['sugar']\n",
    "                            for order in coffee_orders \n",
    "                            if order['milk'] != 'Cow'\n",
    "                          ]\n",
    "\n",
    "print(\"Vegans drank a total of\",sum(sugars_in_vegan_coffees), \"sugars\")"
   ]
  },
  {
   "cell_type": "markdown",
   "metadata": {},
   "source": [
    " 🎯 End of learning objectives 🎯"
   ]
  },
  {
   "cell_type": "markdown",
   "metadata": {},
   "source": [
    "### List Comprehensions: A special Python syntax to represent, 'comprehend', collections.\n",
    "\n",
    "LIST COMPREHENSION is a special, very useful syntax that makes it faster and cleaner to change or filter collections.\n",
    "Very frequently you have a collection of some objects - strings, numbers, or dictionaries and you want to...\n",
    "\n",
    "- **FILTER DATA**: Only keep some values in the collection. Just like you would filter coffee grains out from your coffee, using a paper filter that allows small particles through, and stops larger particles.\n",
    "\n",
    "- **MAP DATA**: Reduce complex data to simpler data or a different data format. Just like geographical map represents terrain in a simplified flat paper format.\n",
    "\n",
    "Basically, all the other programing languages envy that Python has list comprehensions. They are super cool. Lucky for us!"
   ]
  },
  {
   "cell_type": "code",
   "execution_count": null,
   "metadata": {},
   "outputs": [],
   "source": [
    "# Example:  Simplify data to just lengths of words.\n",
    "\n",
    "fruits = [\"apple\", \"pear\", \"banana\", \"pinapple\"]\n",
    "\n",
    "lengths_of_words = [\n",
    "                    len(fruit)\n",
    "                    for fruit in fruits\n",
    "                   ]\n",
    "\n",
    "print(lengths_of_words)"
   ]
  },
  {
   "cell_type": "markdown",
   "metadata": {},
   "source": [
    "Think about it like a conveyor belt - things go in on one side, and slightly changed things come out on the other side.\n",
    "\n",
    "**By the way, you sort of read list comprehensions from the end, or at least from the middle-end**\n",
    "\n",
    "One way to read list comprehention is: Input -> Output\n",
    "\n",
    "`\n",
    "[ \n",
    "OUTPUT (some version of the 'item')\n",
    "INPUT  (which is basically FOR 'item' IN 'items')\n",
    "]\n",
    "`"
   ]
  },
  {
   "cell_type": "markdown",
   "metadata": {},
   "source": [
    "\n",
    "**INPUT**: A definition of where the data will come from.\n",
    "\n",
    "- **ITEMS**: A collection from which you will take the data.\n",
    "\n",
    "- **ITEM**: A temporary variable to hold each thing from 'items' in. It's like a tempooraty variable, call it what you'd like.\n",
    "\n",
    "**OUTPUT**: A definition that you want to turn each item into.\n",
    "\n",
    "- Format for the OUTPUT which is using the 'item' somehow. \n",
    "\n",
    "\n",
    "The syntax for this is:\n",
    "\n",
    "`result = [my_output for one_item in all_items]`\n",
    "\n",
    "For readability it's best to add an extra new line (Python basically ignores new lines) and write it like this:\n",
    "\n",
    "`result = [ \n",
    "            my_output\n",
    "            for one_item in all_items \n",
    "           ]`\n",
    "           \n",
    "Notice, you can call the 'item' variable whatever you want. Make it meaningful."
   ]
  },
  {
   "cell_type": "markdown",
   "metadata": {},
   "source": [
    "## Example Case studies:\n",
    "\n",
    "### Lowercase words\n",
    "\n",
    "To compare a number of tweets, you migtht want to simplify all words to be lower case, so that words `WOW`, `wow` amd `Wow` are considered the same word. \n",
    "To do that, for each word in your list of words, you would want to represent it as a lowercase version of itself. \n",
    "This way `['WOW','wow', 'Wow']` would become `['wow','wow', 'wow']`, hence making it easier to count, analyse etc.\n",
    "\n",
    "By the way, to represent a word as its lowercase version, you can use `some_word.lower()`, e.g. change `Just` into `just`, `think` into `think` etc.\n",
    "\n",
    "E.g. `\"BAnanA\".lower()` will return `\"banana\"`"
   ]
  },
  {
   "cell_type": "code",
   "execution_count": null,
   "metadata": {},
   "outputs": [],
   "source": [
    "# Note: 'some_word.lower()' turns that word into a lowercase.\n",
    "\n",
    "words = ['LoL', 'THIS','is', 'The','MOST','FUNNY','thing','I','have','ever','heard','I','Love','it','LOL']\n",
    "\n",
    "lower_case_words = [ \n",
    "  word.lower() \n",
    "  for word in words \n",
    "]\n",
    "\n",
    "print(lower_case_words)"
   ]
  },
  {
   "cell_type": "markdown",
   "metadata": {},
   "source": [
    "### Represent words as only their lengths.\n",
    "\n",
    "Example: For each word in words, represent it with that word's length e.g. change 'THIS' into 4, 'it' into 2 etc."
   ]
  },
  {
   "cell_type": "code",
   "execution_count": null,
   "metadata": {},
   "outputs": [],
   "source": [
    "words = ['LoL', 'THIS','is', 'The','MOST','FUNNY','thing','I','have','ever','heard','I','Love','it','LOL']\n",
    "\n",
    "lengths_of_words = [ \n",
    "  len(word) \n",
    "  for word in words \n",
    "]\n",
    "\n",
    "print(lengths_of_words)"
   ]
  },
  {
   "cell_type": "markdown",
   "metadata": {},
   "source": [
    "**What is Mapping?**\n",
    "\n",
    "Notice: We are currently not filtering any data out and we keep everything.\n",
    "\n",
    "If input is a list of somethings, then we are returning a list of ten something-else's.\n",
    "\n",
    "**Mapping**: A process of taking something, and representing it in a different, often simpler format. \n",
    "Like taking streets or countries, and representing them on a piece of paper, as in... a Map 🗺 ;)\n",
    "\n",
    "We are 'mapping' the data, leaving the amount of it unchanged. This detail will be important in a minute."
   ]
  },
  {
   "cell_type": "markdown",
   "metadata": {},
   "source": [
    "### Simplify a list of dictionaries, to a list of just one of its values.\n",
    "\n",
    "Example: Take a collection of coffee orders and represent it as just the amount of sugars. In this case, to check if we still have enough sugar."
   ]
  },
  {
   "cell_type": "code",
   "execution_count": null,
   "metadata": {},
   "outputs": [],
   "source": [
    "coffee_orders = [ {'type': 'Latte', 'milk': 'Cow', 'sugar': 4}, \n",
    "                 {'type': 'Lungo', 'milk': 'None', 'sugar': 1}, \n",
    "                 {'type': 'Latte', 'milk': 'Oat', 'sugar': 2} ]\n",
    "\n",
    "number_of_sugars = [ \n",
    "   order['sugar'] # Represent/simplify each order, to just the number of sugars.\n",
    "   for order in coffee_orders \n",
    "]\n",
    "\n",
    "print(number_of_sugars)"
   ]
  },
  {
   "cell_type": "markdown",
   "metadata": {},
   "source": [
    "### Represent a list of dictionaries as something else, e.g. a string.\n",
    "\n",
    "Example: Take a collection of coffee orders and represent them as a sentence, like \"Latte coffee, with Cow milk and 1 sugars\".\n",
    "\n",
    "In one of the next badges about working with strings we will learn how to do this in a much cleaner way."
   ]
  },
  {
   "cell_type": "code",
   "execution_count": null,
   "metadata": {},
   "outputs": [],
   "source": [
    "coffee_orders = [{'type': 'Latte', 'milk': 'Cow', 'sugar': 4}, \n",
    "                 {'type': 'Lungo', 'milk': 'None', 'sugar': 1}, \n",
    "                 {'type': 'Latte', 'milk': 'Oat', 'sugar': 2}]\n",
    "\n",
    "orders_as_sentences = [ \n",
    "    order['type'] + \" coffee, with \"+ order['milk']+\" milk and \"+ str( order['sugar'] )+\" sugars\"\n",
    "    for order in coffee_orders \n",
    "]\n",
    "\n",
    "pp.pprint(orders_as_sentences)"
   ]
  },
  {
   "cell_type": "markdown",
   "metadata": {},
   "source": [
    "### In a list represent each word as... itself. This does not make much sense, but why not.\n",
    "\n",
    "Example: Take a list of words and represent each word as itself. It will make sense in a minute why you would do that.\n",
    "\n",
    "Notice that in the place where output format is specified, we just leave the `word` with no changes. \n",
    "Not `len(word)` or `word.lower()` - just a simple, unchanged `word`."
   ]
  },
  {
   "cell_type": "code",
   "execution_count": null,
   "metadata": {},
   "outputs": [],
   "source": [
    "words = ['LoL', 'THIS','is', 'The','MOST','FUNNY','thing','I','have','ever','heard','I','Love','it','LOL']\n",
    "\n",
    "lengths_of_words = [ \n",
    "   word # Just keep word as it is. Represent word as.... word.\n",
    "   for word in words \n",
    "]\n",
    "\n",
    "print(lengths_of_words)"
   ]
  },
  {
   "cell_type": "markdown",
   "metadata": {},
   "source": [
    "### And finally: \n",
    "\n",
    "## We can also FILTER the input list, and only keep some of its elements:\n",
    "\n",
    "Optionally you can add a third line with a condition, that needs to be true for the item to be kept in the final result.\n",
    "\n",
    "\n",
    "`\n",
    "result = [  output /\n",
    "            input /\n",
    "            condition \n",
    "         ]\n",
    "`\n",
    "\n",
    "The syntax becomes: \n",
    "\n",
    "`\n",
    "result = [  output /\n",
    "            for one_item in all_items /\n",
    "            if condition\n",
    "         ]   \n",
    "`\n",
    "\n",
    "Note: This will FIRST execute the condition, and THEN produce output from all elements that returned True.\n",
    "\n",
    "Rather than changing things that meet the condition, and leaving everything else unchanged."
   ]
  },
  {
   "cell_type": "markdown",
   "metadata": {},
   "source": [
    "**USEFUL!** The most meaningful order of reading a list comp is: input --> condition --> output\n",
    "\n",
    "Note, this is how you read them. You still need to write them as seen in the above cell.\n",
    "\n",
    "    for one_item in all_items\n",
    "    if condition\n",
    "    output of one_item"
   ]
  },
  {
   "cell_type": "markdown",
   "metadata": {},
   "source": [
    "## Example Case Studies:\n",
    "\n",
    "### Lowercase words, and only keep those longer than 3 characters.\n",
    "\n",
    "Let's say that we discovered that most of short words are not very meaningful, so we would like to unify the set by removing short words and lowercasing everything else."
   ]
  },
  {
   "cell_type": "code",
   "execution_count": null,
   "metadata": {},
   "outputs": [],
   "source": [
    "words = ['LoL', 'THIS','is', 'The','MOST','FUNNY','thing','I','have','ever','heard','I','Love','it','LOL']\n",
    "\n",
    "lowercased_long_words = [ \n",
    "    word.lower() # Turn a word into its lowercase version.\n",
    "    for word in words # For each word in words list.\n",
    "    if len(word) > 3 # But only keep those where word's length was over 3.\n",
    "] \n",
    "\n",
    "print(lowercased_long_words)"
   ]
  },
  {
   "cell_type": "markdown",
   "metadata": {},
   "source": [
    "### Represent all words starting with letter 't' as their lengths.\n",
    "\n",
    "Let's say that we have a theory that words starting with 't' are all very long. To test it, we first will try to just represent them as their lengths.  \n",
    "\n",
    "**NOTE ABOUT LEN( )** : Strings in Python are basically lists of characters. So `\"this\"` is identical to `['t','h','i','s']`. \n",
    "\n",
    "We will talk more about it in one of future badges. Than means that to get the first character of a word, we just request the item at index 0. \n",
    "E.g. `my_word[0]` or even `\"Banana\"[0]`. Just like we could get the length of a word with `len(\"banana\")` as if it was `len(my_list_of_things)`."
   ]
  },
  {
   "cell_type": "code",
   "execution_count": null,
   "metadata": {},
   "outputs": [],
   "source": [
    "words = ['LoL', 'THIS','is', 'The','MOST','FUNNY','thing','I','have','ever','heard','I','Love','it','LOL']\n",
    "\n",
    "lengths_of_t_words = [ \n",
    "     len(word) # Turn a word into its length.\n",
    "     for word in words # For each word in tokens list.\n",
    "     if  word[0] == 't' # But only keep those where word's first letter is 't'.\n",
    "] \n",
    "\n",
    "print(lengths_of_t_words)\n",
    "\n",
    "# Notice that the RESULT of list comprehension is ALWAYS A LIST, even if it only has 1 item."
   ]
  },
  {
   "cell_type": "markdown",
   "metadata": {},
   "source": [
    "**Wait, what? How do you mean there's just one word starting with 't'**?\n",
    "\n",
    "Is something not right here?! How about `\"THIS\"` and `\"The\"`? \n",
    "Well... technically they do not start with a `'t'`, but rather they start with a `'T'`.\n",
    "\n",
    "**Python is case sensitive**, which means that `'T'` and `'t'` have nothing in common. \n",
    "\n",
    "You would need to lowercase first to confirm it starts with a `'t'` or `'T'`.\n",
    "\n",
    "You could write an `or` condition to catch both versions:\n",
    "\n",
    "`\n",
    "if  word[0] == 't' or word[0] == 'T' ]\n",
    "`\n",
    "\n",
    "Or you could lowercase the word and compare it to `t`:\n",
    "\n",
    "\n",
    "`\n",
    "if  word.lower()[0] == 't' ]\n",
    "`"
   ]
  },
  {
   "cell_type": "markdown",
   "metadata": {},
   "source": [
    "### Oooooh. But what should be the order of reading a piece of code like this?\n",
    "\n",
    "\n",
    "Try to read each block of code connected with `.` from the left-hand side. \n",
    "\n",
    "For example `word[0].lower()` means:  take word -> then just take the first character -> then lowercase it.\n",
    "\n",
    "**Example:**\n",
    "\n",
    "- Take word -> then just take the first character -> then lowercase it:\n",
    "\n",
    "`\n",
    "if  word[0].lower() == 't' ]  \n",
    "`\n",
    "\n",
    "- Take word -> lowercase the whole word -> and then get the first letter:\n",
    "\n",
    "`\n",
    "if  word.lower()[0] == 't' ]\n",
    "`"
   ]
  },
  {
   "cell_type": "markdown",
   "metadata": {},
   "source": [
    "Which one is better? With short words, it does not matter, but imagine words were long, and you a few million of them... then the first version will be much faster.\n",
    "\n",
    "We will talk abotu all these scenarios and this type of daisy-chaining soon.\n",
    "\n",
    "### Let's get back to our scenario... Represent all words starting with letter 't' as their lengths\n"
   ]
  },
  {
   "cell_type": "code",
   "execution_count": null,
   "metadata": {},
   "outputs": [],
   "source": [
    "words = ['LoL', 'THIS','is', 'The','MOST','FUNNY','thing','I','have','ever','heard','I','Love','it','LOL']\n",
    "\n",
    "lengths_of_t_words = [ len(word)\n",
    "                          for word in words\n",
    "                          if  word[0].lower() == 't' ]\n",
    "\n",
    "print(lengths_of_t_words)"
   ]
  },
  {
   "cell_type": "markdown",
   "metadata": {},
   "source": [
    "Ok, this makes more sense!"
   ]
  },
  {
   "cell_type": "markdown",
   "metadata": {},
   "source": [
    "### Simplify the data AND only keep some of them\n",
    "\n",
    "For example, if we only wanted to get the 'sugar' content of vegan beverages, where teh value of 'milk' is different to 'Cow'"
   ]
  },
  {
   "cell_type": "code",
   "execution_count": null,
   "metadata": {},
   "outputs": [],
   "source": [
    "# How many sugars go into non-cow coffees?\n",
    "\n",
    "coffee_orders = [{'type': 'Latte', 'milk': 'Cow', 'sugar': 4}, \n",
    "                 {'type': 'Lungo', 'milk': 'None', 'sugar': 1}, \n",
    "                 {'type': 'Latte', 'milk': 'Oat', 'sugar': 2}]\n",
    "\n",
    "vegan_orders_as_sugars = [ order['sugar']\n",
    "                      for order in coffee_orders \n",
    "                      if order['milk'] != 'Cow']\n",
    "\n",
    "print(vegan_orders_as_sugars)"
   ]
  },
  {
   "cell_type": "markdown",
   "metadata": {},
   "source": [
    "### A very common and useful scenario: Keeping only some elements, but not changing them.\n",
    "\n",
    "We can even use the words as they came, for output, and not change them at all, just by using the filtering part.\n",
    "\n",
    "For exmaple let's just keep the words starting with a `'t'` but not change them in any way."
   ]
  },
  {
   "cell_type": "code",
   "execution_count": null,
   "metadata": {},
   "outputs": [],
   "source": [
    "words = ['THIS','is', 'The','MOST','FUNNY','thing','I','have','ever','heard','I','Love','it','LOL']\n",
    "\n",
    "t_words = [ \n",
    "    word # If you just want to filter words, but output should be the same as input.\n",
    "    for word in words\n",
    "    if word[0].lower() == 't' \n",
    "]\n",
    "\n",
    "print(t_words)"
   ]
  },
  {
   "cell_type": "markdown",
   "metadata": {},
   "source": [
    "### Mathemarical operators: 'max', 'min', 'len', 'sum'.\n",
    "\n",
    "You can use methematical operators:\n",
    "\n",
    "- **max( )** - Get the largest element in a group. For letters it will mean 'highest in the alphabet'.\n",
    "- **len( )** - Size of the collection, can be used on lists, dicts, but also on strings/\n",
    "- **sum( )** - Combine all elements. Just used for numbers. For now.\n",
    "\n",
    "Now let's use these on your lists to achieve some very useful results:"
   ]
  },
  {
   "cell_type": "code",
   "execution_count": null,
   "metadata": {},
   "outputs": [],
   "source": [
    "print( max([3,4,5]) )\n",
    "print( min([3,4,5]) )\n",
    "print( len([3,4,5]) )\n",
    "print( sum([3,4,5]) )"
   ]
  },
  {
   "cell_type": "code",
   "execution_count": null,
   "metadata": {},
   "outputs": [],
   "source": [
    "print( max([\"banana\", \"kiwi\", \"plum\"]) )\n",
    "print( min([\"banana\", \"kiwi\", \"plum\"]) )\n",
    "print( len([\"banana\", \"kiwi\", \"plum\"]) )\n",
    "print(sum( [\"banana\", \"kiwi\", \"plum\"]) ) # Will error, yay! ;)"
   ]
  },
  {
   "cell_type": "markdown",
   "metadata": {},
   "source": [
    "## Extra scenarios.\n",
    "\n",
    "### Compare two groups:\n",
    "\n",
    "- What percent of coffees are 'Latte'."
   ]
  },
  {
   "cell_type": "code",
   "execution_count": null,
   "metadata": {},
   "outputs": [],
   "source": [
    "coffee_orders = [ {'type': 'Latte', 'milk': 'Cow', 'sugar': 4}, \n",
    "                 {'type': 'Lungo', 'milk': 'None', 'sugar': 1}, \n",
    "                 {'type': 'Latte', 'milk': 'Oat', 'sugar': 2} ]\n",
    "\n",
    "all_lattes = [ \n",
    "    order\n",
    "    for order in coffee_orders \n",
    "    if order['type'] == 'Latte'\n",
    "]\n",
    "\n",
    "number_of_lattes = len( all_lattes )\n",
    "number_of_all_coffees = len( coffee_orders )\n",
    "\n",
    "print(\"number of lattes\", number_of_lattes)\n",
    "print(\"percent of lattes\", number_of_lattes / number_of_all_coffees,\"%\")"
   ]
  },
  {
   "cell_type": "markdown",
   "metadata": {},
   "source": [
    "### Compare two groups:\n",
    "\n",
    "- Who drinks more sugar - a) All Vegans OR b) Cow-based-Latte-drinkers?"
   ]
  },
  {
   "cell_type": "code",
   "execution_count": null,
   "metadata": {},
   "outputs": [],
   "source": [
    "coffee_orders = [ {'type': 'Latte', 'milk': 'Cow', 'sugar': 2}, \n",
    "                 {'type': 'Lungo', 'milk': 'None', 'sugar': 1}, \n",
    "                 {'type': 'Latte', 'milk': 'Oat', 'sugar': 2} ]\n",
    "\n",
    "sugars_in_vegan_coffees = [ \n",
    "    order['sugar']\n",
    "    for order in coffee_orders \n",
    "    if order['milk'] != 'Cow'\n",
    "]\n",
    "\n",
    "sugars_in_all_lattes = [ \n",
    "    order['sugar']\n",
    "    for order in coffee_orders \n",
    "    if order['type'] == 'Latte' and order['milk'] == 'Cow'\n",
    "]\n",
    "\n",
    "if sum(sugars_in_vegan_coffees) > sum(sugars_in_all_lattes):\n",
    "    print(\"there's more total sugar used in vegan coffees, than in all cow-milk lattes\")\n",
    "else:\n",
    "    print(\"there's no more total sugar used in vegan coffees, than in all cow-milk lattes\")\n"
   ]
  },
  {
   "cell_type": "markdown",
   "metadata": {},
   "source": [
    "# ⛏ Minitask 1: Filter and modify/map some simple lists.\n",
    "\n",
    "Remember every now and then to save your progress (File > Save, or a keyboard shortcut, OR click the 'Disc icon at the top left of your Noteable toolbar). \n",
    "\n",
    "Given the below lists, write list comprehentions that will change them into different formats. \n",
    "\n",
    "Write 3-4 list comprehentions for each, and try to keep them nonidentical to the examples within this Notebook.\n",
    "\n",
    "Your datasets are: \n",
    "\n",
    "- Part of Romeo and Juliet by Shakespeare from http://www.gutenberg.org/files/1513/1513-0.txt (I already pasted it for you below, so don't worry about getting the text by yourself).\n",
    "- Random sample of currency exchange values from pound to euro.\n",
    "\n",
    "Some inspiration, but feel free to come up with your own scenarios:\n",
    "\n",
    "- Who's name is mentioned more? (Romeo or Juliet)? Remember that you can filter a list and then ask for `len( )` of the result.\n",
    "- What are the words longer than 5 characters starting with a letter 'M'?\n",
    "- How many days has seen the pound being worth more than 1.1 euro?\n",
    "- How much euro could you buy for 100 pounds on the days when pound was worth more than 1.1 euro?"
   ]
  },
  {
   "cell_type": "code",
   "execution_count": null,
   "metadata": {},
   "outputs": [],
   "source": [
    "shakespeare = ['JULIET', '.', '’', 'Tis', 'but', 'thy', 'name', 'that', 'is', 'my', 'enemy', ';',\n",
    "              'Thou', 'art', 'thyself', ',', 'though', 'not', 'a', 'Montague', '.', 'What', '’', 's',\n",
    "              'Montague', '?', 'It', 'is', 'nor', 'hand', 'nor', 'foot', ',', 'Nor', 'arm', ',', 'nor', \n",
    "              'face', ',', 'nor', 'any', 'other', 'part', 'Belonging', 'to', 'a', 'man', '.',\n",
    "              'O', 'be', 'some', 'other', 'name', '.', 'What', '’', 's', 'in', 'a', 'name', '?',\n",
    "              'That', 'which', 'we', 'call', 'a', 'rose', 'By', 'any', 'other', 'name', 'would', 'smell', \n",
    "              'as', 'sweet', ';', 'So', 'Romeo', 'would', ',', 'were', 'he', 'not', 'Romeo', 'call', '’',\n",
    "              'd', ',', 'Retain', 'that', 'dear', 'perfection', 'which', 'he', 'owes', 'Without', 'that', \n",
    "              'title', '.', 'Romeo', ',', 'doff', 'thy', 'name', ',', 'And', 'for', 'thy', 'name', ',',\n",
    "              'which', 'is', 'no', 'part', 'of', 'thee', ',', 'Take', 'all', 'myself', '.']\n",
    "\n",
    "pound_to_euro = [1.079974, 1.084409, 1.087774, 1.096891, 1.094839, 1.091664, 1.090948,\n",
    "                 1.090948, 1.089578, 1.086815, 1.092255, 1.093133, 1.0926, 1.095731, \n",
    "                 1.095731, 1.102182, 1.095389, 1.101342, 1.098181, 1.103804, 1.103819,\n",
    "                 1.103819, 1.101216, 1.099458, 1.097423, 1.10108, 1.101352, 1.102922, 1.102922, 1.106241]"
   ]
  },
  {
   "cell_type": "code",
   "execution_count": null,
   "metadata": {},
   "outputs": [],
   "source": [
    "# Here write your solution! E.g. for these questions:\n",
    "# - Who's name is mentioned more? (Romeo or Juliet)? Remember that you can filter a list and then ask for `len( )` of the result.\n",
    "# - What are the words longer than 5 characters starting with a letter 'M'?\n",
    "# - How many days has seen the pound being worth more than 1.1 euro?\n",
    "# - How much euro could one buy for 100 pounds on the days when pound was being worth more than 1.1 euro?\n",
    "\n"
   ]
  },
  {
   "cell_type": "markdown",
   "metadata": {},
   "source": [
    " \n",
    "# ⛏ Minitask 2: Extract and filter some information from JSON information about cash machines.\n",
    "\n",
    "we've seen this dataset from another badge. Ask 2-3 business questions and answer them using a list comprehension.\n",
    "\n",
    "Some inspiration, but feel free to coma up with your own scenarios:\n",
    "\n",
    "- What are the city names where all these ATMs are based in?\n",
    "- What is the typical number of currencies supported by an ATM?\n",
    "- What are names of cities of ATMs that dispense 5 pound notes? (MinimumPossibleAmount is 5)"
   ]
  },
  {
   "cell_type": "code",
   "execution_count": null,
   "metadata": {},
   "outputs": [],
   "source": [
    "import pprint as pp\n",
    "\n",
    "bank_of_scotland_atms = [{'Identification': 'BFF7BC11',\n",
    "  'SupportedLanguages': ['eng', 'spa', 'ger', 'fre'],\n",
    "  'ATMServices': ['PINUnblock',\n",
    "   'Balance',\n",
    "   'BillPayments',\n",
    "   'CashWithdrawal',\n",
    "   'FastCash',\n",
    "   'MobilePhoneTopUp',\n",
    "   'PINChange',\n",
    "   'MiniStatement'],\n",
    "  'Accessibility': ['WheelchairAccess'],\n",
    "  'SupportedCurrencies': ['GBP'],\n",
    "  'MinimumPossibleAmount': '5',\n",
    "  'Branch': {'Identification': '80453100'},\n",
    "  'Location': {'LocationCategory': ['BranchExternal'],\n",
    "   'Site': {'Identification': '80453100'},\n",
    "   'PostalAddress': {'AddressLine': ['136 BUCHANAN STREET; BALFRON'],\n",
    "    'BuildingNumber': 'BOS BRANCH',\n",
    "    'StreetName': '136 BUCHANAN STREET',\n",
    "    'TownName': 'GLASGOW',\n",
    "    'CountrySubDivision': ['GLASGOW'],\n",
    "    'Country': 'GB',\n",
    "    'PostCode': 'G63 0TG',\n",
    "    'GeoLocation': {'GeographicCoordinates': {'Latitude': '56.071629',\n",
    "      'Longitude': '-4.336911'}}}}},\n",
    " {'Identification': 'BFA6HC11',\n",
    "  'SupportedLanguages': ['eng', 'spa', 'ger', 'fre'],\n",
    "  'ATMServices': ['PINUnblock',\n",
    "   'Balance',\n",
    "   'BillPayments',\n",
    "   'CashWithdrawal',\n",
    "   'FastCash',\n",
    "   'MobilePhoneTopUp',\n",
    "   'PINChange',\n",
    "   'MiniStatement'],\n",
    "  'Accessibility': ['AudioCashMachine', 'WheelchairAccess'],\n",
    "  'SupportedCurrencies': ['GBP'],\n",
    "  'MinimumPossibleAmount': '10',\n",
    "  'Branch': {'Identification': '80496000'},\n",
    "  'Location': {'LocationCategory': ['BranchInternal'],\n",
    "   'Site': {'Identification': '80496000'},\n",
    "   'PostalAddress': {'AddressLine': ['BRISTOL ROOM COPLEY DATA CENTRE; WAKEFIELD ROAD'],\n",
    "    'BuildingNumber': 'BOS BRANCH',\n",
    "    'StreetName': 'BRISTOL ROOM COPLEY DATA CENTRE',\n",
    "    'TownName': 'HALIFAX',\n",
    "    'CountrySubDivision': ['WEST YORKSHIRE'],\n",
    "    'Country': 'GB',\n",
    "    'PostCode': 'HX3 0TD',\n",
    "    'GeoLocation': {'GeographicCoordinates': {'Latitude': '51.454900',\n",
    "      'Longitude': '2.592000'}}}}},\n",
    " {'Identification': 'BF88GC11',\n",
    "  'SupportedLanguages': ['eng', 'spa', 'ger', 'fre'],\n",
    "  'ATMServices': ['PINUnblock',\n",
    "   'Balance',\n",
    "   'BillPayments',\n",
    "   'CashWithdrawal',\n",
    "   'FastCash',\n",
    "   'MobilePhoneTopUp',\n",
    "   'PINChange',\n",
    "   'MiniStatement'],\n",
    "  'Accessibility': ['AudioCashMachine', 'WheelchairAccess'],\n",
    "  'SupportedCurrencies': ['GBP'],\n",
    "  'MinimumPossibleAmount': '5',\n",
    "  'Branch': {'Identification': '80452300'},\n",
    "  'Location': {'LocationCategory': ['BranchInternal'],\n",
    "   'Site': {'Identification': '80452300'},\n",
    "   'PostalAddress': {'AddressLine': ['111 HIGH STREET;'],\n",
    "    'BuildingNumber': 'BOS BRANCH',\n",
    "    'StreetName': '111 HIGH STREET',\n",
    "    'TownName': 'ANNAN',\n",
    "    'CountrySubDivision': ['DUMFRIES AND GALLOWAY'],\n",
    "    'Country': 'GB',\n",
    "    'PostCode': 'DG12 6AB',\n",
    "    'GeoLocation': {'GeographicCoordinates': {'Latitude': '54.987176',\n",
    "      'Longitude': '-3.260075'}}}}}]\n",
    "\n",
    "pp.pprint(bank_of_scotland_atms)"
   ]
  },
  {
   "cell_type": "code",
   "execution_count": null,
   "metadata": {},
   "outputs": [],
   "source": [
    "# Here write your solutions. E.g. for these questions:\n",
    "# What are the city names where all these ATMs are based in?\n",
    "# What is the typical number of currencies supported by an ATM?\n",
    "# What are names of cities of ATMs that dispense 5 pound notes? (MinimumPossibleAmount is 5)\n",
    "\n"
   ]
  },
  {
   "cell_type": "markdown",
   "metadata": {},
   "source": [
    "## ⭐️⭐️⭐️💥 What you learned in this session: Three stars and a wish.\n",
    "**In your own words** write in your Learn diary:\n",
    "\n",
    "- 3 things you Would like to remember from this badge.\n",
    "- 1 thing you wish to understand better in the future or a question you'd like to ask.\n"
   ]
  },
  {
   "cell_type": "code",
   "execution_count": null,
   "metadata": {},
   "outputs": [],
   "source": []
  }
 ],
 "metadata": {
  "kernelspec": {
   "display_name": "Python 3",
   "language": "python",
   "name": "python3"
  },
  "language_info": {
   "codemirror_mode": {
    "name": "ipython",
    "version": 3
   },
   "file_extension": ".py",
   "mimetype": "text/x-python",
   "name": "python",
   "nbconvert_exporter": "python",
   "pygments_lexer": "ipython3",
   "version": "3.9.6"
  }
 },
 "nbformat": 4,
 "nbformat_minor": 2
}
